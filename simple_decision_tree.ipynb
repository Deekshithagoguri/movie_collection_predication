{
 "cells": [
  {
   "cell_type": "code",
   "execution_count": 1,
   "id": "d8e55d2e",
   "metadata": {},
   "outputs": [
    {
     "data": {
      "text/plain": [
       "'C:\\\\Users\\\\Deekshitha\\\\Desktop\\\\python'"
      ]
     },
     "execution_count": 1,
     "metadata": {},
     "output_type": "execute_result"
    }
   ],
   "source": [
    "pwd"
   ]
  },
  {
   "cell_type": "code",
   "execution_count": 2,
   "id": "38234164",
   "metadata": {},
   "outputs": [],
   "source": [
    "import numpy as np"
   ]
  },
  {
   "cell_type": "code",
   "execution_count": 3,
   "id": "81f94c98",
   "metadata": {},
   "outputs": [],
   "source": [
    "import pandas as pd"
   ]
  },
  {
   "cell_type": "code",
   "execution_count": 4,
   "id": "3dcda9d8",
   "metadata": {},
   "outputs": [],
   "source": [
    "import seaborn as sns"
   ]
  },
  {
   "cell_type": "code",
   "execution_count": 1,
   "id": "1503cbef",
   "metadata": {},
   "outputs": [],
   "source": [
    "import matplotlib.pyplot as plt"
   ]
  },
  {
   "cell_type": "code",
   "execution_count": null,
   "id": "5b09708f",
   "metadata": {},
   "outputs": [],
   "source": []
  },
  {
   "cell_type": "code",
   "execution_count": 6,
   "id": "7477557e",
   "metadata": {},
   "outputs": [],
   "source": [
    "df = pd.read_csv('C:/Users/Deekshitha/Desktop/python/Movie_collection_train.csv',header=0)"
   ]
  },
  {
   "cell_type": "code",
   "execution_count": 7,
   "id": "d457ee7d",
   "metadata": {},
   "outputs": [
    {
     "data": {
      "text/html": [
       "<div>\n",
       "<style scoped>\n",
       "    .dataframe tbody tr th:only-of-type {\n",
       "        vertical-align: middle;\n",
       "    }\n",
       "\n",
       "    .dataframe tbody tr th {\n",
       "        vertical-align: top;\n",
       "    }\n",
       "\n",
       "    .dataframe thead th {\n",
       "        text-align: right;\n",
       "    }\n",
       "</style>\n",
       "<table border=\"1\" class=\"dataframe\">\n",
       "  <thead>\n",
       "    <tr style=\"text-align: right;\">\n",
       "      <th></th>\n",
       "      <th>Collection</th>\n",
       "      <th>Marketin_expense</th>\n",
       "      <th>Production_expense</th>\n",
       "      <th>Multiplex_coverage</th>\n",
       "      <th>Budget</th>\n",
       "      <th>Movie_length</th>\n",
       "      <th>Lead_ Actor_Rating</th>\n",
       "      <th>Lead_Actress_rating</th>\n",
       "      <th>Director_rating</th>\n",
       "      <th>Producer_rating</th>\n",
       "      <th>Critic_rating</th>\n",
       "      <th>Trailer_views</th>\n",
       "      <th>Time_taken</th>\n",
       "      <th>Twitter_hastags</th>\n",
       "      <th>Genre</th>\n",
       "      <th>Avg_age_actors</th>\n",
       "      <th>MPAA_film_rating</th>\n",
       "      <th>Num_multiplex</th>\n",
       "      <th>3D_available</th>\n",
       "    </tr>\n",
       "  </thead>\n",
       "  <tbody>\n",
       "    <tr>\n",
       "      <th>0</th>\n",
       "      <td>48000</td>\n",
       "      <td>20.1264</td>\n",
       "      <td>59.62</td>\n",
       "      <td>0.462</td>\n",
       "      <td>36524.125</td>\n",
       "      <td>138.7</td>\n",
       "      <td>7.825</td>\n",
       "      <td>8.095</td>\n",
       "      <td>7.910</td>\n",
       "      <td>7.995</td>\n",
       "      <td>7.94</td>\n",
       "      <td>527367</td>\n",
       "      <td>109.60</td>\n",
       "      <td>223.840</td>\n",
       "      <td>Thriller</td>\n",
       "      <td>23</td>\n",
       "      <td>PG</td>\n",
       "      <td>494</td>\n",
       "      <td>YES</td>\n",
       "    </tr>\n",
       "    <tr>\n",
       "      <th>1</th>\n",
       "      <td>43200</td>\n",
       "      <td>20.5462</td>\n",
       "      <td>69.14</td>\n",
       "      <td>0.531</td>\n",
       "      <td>35668.655</td>\n",
       "      <td>152.4</td>\n",
       "      <td>7.505</td>\n",
       "      <td>7.650</td>\n",
       "      <td>7.440</td>\n",
       "      <td>7.470</td>\n",
       "      <td>7.44</td>\n",
       "      <td>494055</td>\n",
       "      <td>146.64</td>\n",
       "      <td>243.456</td>\n",
       "      <td>Drama</td>\n",
       "      <td>42</td>\n",
       "      <td>PG</td>\n",
       "      <td>462</td>\n",
       "      <td>NO</td>\n",
       "    </tr>\n",
       "    <tr>\n",
       "      <th>2</th>\n",
       "      <td>69400</td>\n",
       "      <td>20.5458</td>\n",
       "      <td>69.14</td>\n",
       "      <td>0.531</td>\n",
       "      <td>39912.675</td>\n",
       "      <td>134.6</td>\n",
       "      <td>7.485</td>\n",
       "      <td>7.570</td>\n",
       "      <td>7.495</td>\n",
       "      <td>7.515</td>\n",
       "      <td>7.44</td>\n",
       "      <td>547051</td>\n",
       "      <td>147.88</td>\n",
       "      <td>2022.400</td>\n",
       "      <td>Comedy</td>\n",
       "      <td>38</td>\n",
       "      <td>PG</td>\n",
       "      <td>458</td>\n",
       "      <td>NO</td>\n",
       "    </tr>\n",
       "    <tr>\n",
       "      <th>3</th>\n",
       "      <td>66800</td>\n",
       "      <td>20.6474</td>\n",
       "      <td>59.36</td>\n",
       "      <td>0.542</td>\n",
       "      <td>38873.890</td>\n",
       "      <td>119.3</td>\n",
       "      <td>6.895</td>\n",
       "      <td>7.035</td>\n",
       "      <td>6.920</td>\n",
       "      <td>7.020</td>\n",
       "      <td>8.26</td>\n",
       "      <td>516279</td>\n",
       "      <td>185.36</td>\n",
       "      <td>225.344</td>\n",
       "      <td>Drama</td>\n",
       "      <td>45</td>\n",
       "      <td>PG</td>\n",
       "      <td>472</td>\n",
       "      <td>YES</td>\n",
       "    </tr>\n",
       "    <tr>\n",
       "      <th>4</th>\n",
       "      <td>72400</td>\n",
       "      <td>21.3810</td>\n",
       "      <td>59.36</td>\n",
       "      <td>0.542</td>\n",
       "      <td>39701.585</td>\n",
       "      <td>127.7</td>\n",
       "      <td>6.920</td>\n",
       "      <td>7.070</td>\n",
       "      <td>6.815</td>\n",
       "      <td>7.070</td>\n",
       "      <td>8.26</td>\n",
       "      <td>531448</td>\n",
       "      <td>176.48</td>\n",
       "      <td>225.792</td>\n",
       "      <td>Drama</td>\n",
       "      <td>55</td>\n",
       "      <td>PG</td>\n",
       "      <td>395</td>\n",
       "      <td>NO</td>\n",
       "    </tr>\n",
       "  </tbody>\n",
       "</table>\n",
       "</div>"
      ],
      "text/plain": [
       "   Collection  Marketin_expense  Production_expense  Multiplex_coverage  \\\n",
       "0       48000           20.1264               59.62               0.462   \n",
       "1       43200           20.5462               69.14               0.531   \n",
       "2       69400           20.5458               69.14               0.531   \n",
       "3       66800           20.6474               59.36               0.542   \n",
       "4       72400           21.3810               59.36               0.542   \n",
       "\n",
       "      Budget  Movie_length  Lead_ Actor_Rating  Lead_Actress_rating  \\\n",
       "0  36524.125         138.7               7.825                8.095   \n",
       "1  35668.655         152.4               7.505                7.650   \n",
       "2  39912.675         134.6               7.485                7.570   \n",
       "3  38873.890         119.3               6.895                7.035   \n",
       "4  39701.585         127.7               6.920                7.070   \n",
       "\n",
       "   Director_rating  Producer_rating  Critic_rating  Trailer_views  Time_taken  \\\n",
       "0            7.910            7.995           7.94         527367      109.60   \n",
       "1            7.440            7.470           7.44         494055      146.64   \n",
       "2            7.495            7.515           7.44         547051      147.88   \n",
       "3            6.920            7.020           8.26         516279      185.36   \n",
       "4            6.815            7.070           8.26         531448      176.48   \n",
       "\n",
       "   Twitter_hastags     Genre  Avg_age_actors MPAA_film_rating  Num_multiplex  \\\n",
       "0          223.840  Thriller              23               PG            494   \n",
       "1          243.456     Drama              42               PG            462   \n",
       "2         2022.400    Comedy              38               PG            458   \n",
       "3          225.344     Drama              45               PG            472   \n",
       "4          225.792     Drama              55               PG            395   \n",
       "\n",
       "  3D_available  \n",
       "0          YES  \n",
       "1           NO  \n",
       "2           NO  \n",
       "3          YES  \n",
       "4           NO  "
      ]
     },
     "execution_count": 7,
     "metadata": {},
     "output_type": "execute_result"
    }
   ],
   "source": [
    "df.head()"
   ]
  },
  {
   "cell_type": "markdown",
   "id": "4bdd143a",
   "metadata": {},
   "source": [
    "df.info()"
   ]
  },
  {
   "cell_type": "code",
   "execution_count": 8,
   "id": "fa68c62d",
   "metadata": {
    "scrolled": true
   },
   "outputs": [
    {
     "data": {
      "text/html": [
       "<div>\n",
       "<style scoped>\n",
       "    .dataframe tbody tr th:only-of-type {\n",
       "        vertical-align: middle;\n",
       "    }\n",
       "\n",
       "    .dataframe tbody tr th {\n",
       "        vertical-align: top;\n",
       "    }\n",
       "\n",
       "    .dataframe thead th {\n",
       "        text-align: right;\n",
       "    }\n",
       "</style>\n",
       "<table border=\"1\" class=\"dataframe\">\n",
       "  <thead>\n",
       "    <tr style=\"text-align: right;\">\n",
       "      <th></th>\n",
       "      <th>Collection</th>\n",
       "      <th>Marketin_expense</th>\n",
       "      <th>Production_expense</th>\n",
       "      <th>Multiplex_coverage</th>\n",
       "      <th>Budget</th>\n",
       "      <th>Movie_length</th>\n",
       "      <th>Lead_ Actor_Rating</th>\n",
       "      <th>Lead_Actress_rating</th>\n",
       "      <th>Director_rating</th>\n",
       "      <th>Producer_rating</th>\n",
       "      <th>Critic_rating</th>\n",
       "      <th>Trailer_views</th>\n",
       "      <th>Time_taken</th>\n",
       "      <th>Twitter_hastags</th>\n",
       "      <th>Avg_age_actors</th>\n",
       "      <th>Num_multiplex</th>\n",
       "    </tr>\n",
       "  </thead>\n",
       "  <tbody>\n",
       "    <tr>\n",
       "      <th>count</th>\n",
       "      <td>400.000000</td>\n",
       "      <td>400.000000</td>\n",
       "      <td>400.000000</td>\n",
       "      <td>400.000000</td>\n",
       "      <td>400.000000</td>\n",
       "      <td>400.000000</td>\n",
       "      <td>400.000000</td>\n",
       "      <td>400.000000</td>\n",
       "      <td>400.000000</td>\n",
       "      <td>400.000000</td>\n",
       "      <td>400.000000</td>\n",
       "      <td>400.000000</td>\n",
       "      <td>392.000000</td>\n",
       "      <td>400.000000</td>\n",
       "      <td>400.000000</td>\n",
       "      <td>400.000000</td>\n",
       "    </tr>\n",
       "    <tr>\n",
       "      <th>mean</th>\n",
       "      <td>48646.500000</td>\n",
       "      <td>55.017180</td>\n",
       "      <td>73.832700</td>\n",
       "      <td>0.469881</td>\n",
       "      <td>35197.771537</td>\n",
       "      <td>137.581750</td>\n",
       "      <td>7.810275</td>\n",
       "      <td>7.982812</td>\n",
       "      <td>7.813375</td>\n",
       "      <td>7.993887</td>\n",
       "      <td>7.894100</td>\n",
       "      <td>463223.567500</td>\n",
       "      <td>157.790000</td>\n",
       "      <td>258.083840</td>\n",
       "      <td>38.715000</td>\n",
       "      <td>523.650000</td>\n",
       "    </tr>\n",
       "    <tr>\n",
       "      <th>std</th>\n",
       "      <td>18308.499136</td>\n",
       "      <td>119.755634</td>\n",
       "      <td>13.023426</td>\n",
       "      <td>0.113920</td>\n",
       "      <td>4075.766926</td>\n",
       "      <td>28.990673</td>\n",
       "      <td>1.088694</td>\n",
       "      <td>1.089923</td>\n",
       "      <td>1.093581</td>\n",
       "      <td>1.088619</td>\n",
       "      <td>0.672413</td>\n",
       "      <td>65225.567649</td>\n",
       "      <td>31.723517</td>\n",
       "      <td>94.621476</td>\n",
       "      <td>12.651043</td>\n",
       "      <td>103.661283</td>\n",
       "    </tr>\n",
       "    <tr>\n",
       "      <th>min</th>\n",
       "      <td>10000.000000</td>\n",
       "      <td>20.126400</td>\n",
       "      <td>55.920000</td>\n",
       "      <td>0.129000</td>\n",
       "      <td>19781.355000</td>\n",
       "      <td>76.400000</td>\n",
       "      <td>3.840000</td>\n",
       "      <td>4.035000</td>\n",
       "      <td>3.840000</td>\n",
       "      <td>4.030000</td>\n",
       "      <td>6.600000</td>\n",
       "      <td>215432.000000</td>\n",
       "      <td>0.000000</td>\n",
       "      <td>201.632000</td>\n",
       "      <td>3.000000</td>\n",
       "      <td>333.000000</td>\n",
       "    </tr>\n",
       "    <tr>\n",
       "      <th>25%</th>\n",
       "      <td>37800.000000</td>\n",
       "      <td>21.321950</td>\n",
       "      <td>63.250000</td>\n",
       "      <td>0.419000</td>\n",
       "      <td>32721.727500</td>\n",
       "      <td>111.175000</td>\n",
       "      <td>7.092500</td>\n",
       "      <td>7.252500</td>\n",
       "      <td>7.123750</td>\n",
       "      <td>7.273750</td>\n",
       "      <td>7.320000</td>\n",
       "      <td>436793.500000</td>\n",
       "      <td>133.360000</td>\n",
       "      <td>223.804000</td>\n",
       "      <td>26.000000</td>\n",
       "      <td>451.000000</td>\n",
       "    </tr>\n",
       "    <tr>\n",
       "      <th>50%</th>\n",
       "      <td>45000.000000</td>\n",
       "      <td>23.214700</td>\n",
       "      <td>69.030000</td>\n",
       "      <td>0.494500</td>\n",
       "      <td>34593.762500</td>\n",
       "      <td>142.250000</td>\n",
       "      <td>7.995000</td>\n",
       "      <td>8.157500</td>\n",
       "      <td>7.990000</td>\n",
       "      <td>8.140000</td>\n",
       "      <td>7.960000</td>\n",
       "      <td>474930.000000</td>\n",
       "      <td>159.720000</td>\n",
       "      <td>246.680000</td>\n",
       "      <td>39.000000</td>\n",
       "      <td>510.000000</td>\n",
       "    </tr>\n",
       "    <tr>\n",
       "      <th>75%</th>\n",
       "      <td>56500.000000</td>\n",
       "      <td>34.638300</td>\n",
       "      <td>82.840000</td>\n",
       "      <td>0.558000</td>\n",
       "      <td>37142.118750</td>\n",
       "      <td>165.400000</td>\n",
       "      <td>8.725000</td>\n",
       "      <td>8.912500</td>\n",
       "      <td>8.740000</td>\n",
       "      <td>8.931250</td>\n",
       "      <td>8.400000</td>\n",
       "      <td>507690.500000</td>\n",
       "      <td>183.210000</td>\n",
       "      <td>283.444000</td>\n",
       "      <td>50.000000</td>\n",
       "      <td>571.000000</td>\n",
       "    </tr>\n",
       "    <tr>\n",
       "      <th>max</th>\n",
       "      <td>100000.000000</td>\n",
       "      <td>1799.524000</td>\n",
       "      <td>106.300000</td>\n",
       "      <td>0.615000</td>\n",
       "      <td>48772.900000</td>\n",
       "      <td>173.500000</td>\n",
       "      <td>9.435000</td>\n",
       "      <td>9.540000</td>\n",
       "      <td>9.425000</td>\n",
       "      <td>9.635000</td>\n",
       "      <td>9.400000</td>\n",
       "      <td>567784.000000</td>\n",
       "      <td>217.520000</td>\n",
       "      <td>2022.400000</td>\n",
       "      <td>60.000000</td>\n",
       "      <td>868.000000</td>\n",
       "    </tr>\n",
       "  </tbody>\n",
       "</table>\n",
       "</div>"
      ],
      "text/plain": [
       "          Collection  Marketin_expense  Production_expense  \\\n",
       "count     400.000000        400.000000          400.000000   \n",
       "mean    48646.500000         55.017180           73.832700   \n",
       "std     18308.499136        119.755634           13.023426   \n",
       "min     10000.000000         20.126400           55.920000   \n",
       "25%     37800.000000         21.321950           63.250000   \n",
       "50%     45000.000000         23.214700           69.030000   \n",
       "75%     56500.000000         34.638300           82.840000   \n",
       "max    100000.000000       1799.524000          106.300000   \n",
       "\n",
       "       Multiplex_coverage        Budget  Movie_length  Lead_ Actor_Rating  \\\n",
       "count          400.000000    400.000000    400.000000          400.000000   \n",
       "mean             0.469881  35197.771537    137.581750            7.810275   \n",
       "std              0.113920   4075.766926     28.990673            1.088694   \n",
       "min              0.129000  19781.355000     76.400000            3.840000   \n",
       "25%              0.419000  32721.727500    111.175000            7.092500   \n",
       "50%              0.494500  34593.762500    142.250000            7.995000   \n",
       "75%              0.558000  37142.118750    165.400000            8.725000   \n",
       "max              0.615000  48772.900000    173.500000            9.435000   \n",
       "\n",
       "       Lead_Actress_rating  Director_rating  Producer_rating  Critic_rating  \\\n",
       "count           400.000000       400.000000       400.000000     400.000000   \n",
       "mean              7.982812         7.813375         7.993887       7.894100   \n",
       "std               1.089923         1.093581         1.088619       0.672413   \n",
       "min               4.035000         3.840000         4.030000       6.600000   \n",
       "25%               7.252500         7.123750         7.273750       7.320000   \n",
       "50%               8.157500         7.990000         8.140000       7.960000   \n",
       "75%               8.912500         8.740000         8.931250       8.400000   \n",
       "max               9.540000         9.425000         9.635000       9.400000   \n",
       "\n",
       "       Trailer_views  Time_taken  Twitter_hastags  Avg_age_actors  \\\n",
       "count     400.000000  392.000000       400.000000      400.000000   \n",
       "mean   463223.567500  157.790000       258.083840       38.715000   \n",
       "std     65225.567649   31.723517        94.621476       12.651043   \n",
       "min    215432.000000    0.000000       201.632000        3.000000   \n",
       "25%    436793.500000  133.360000       223.804000       26.000000   \n",
       "50%    474930.000000  159.720000       246.680000       39.000000   \n",
       "75%    507690.500000  183.210000       283.444000       50.000000   \n",
       "max    567784.000000  217.520000      2022.400000       60.000000   \n",
       "\n",
       "       Num_multiplex  \n",
       "count     400.000000  \n",
       "mean      523.650000  \n",
       "std       103.661283  \n",
       "min       333.000000  \n",
       "25%       451.000000  \n",
       "50%       510.000000  \n",
       "75%       571.000000  \n",
       "max       868.000000  "
      ]
     },
     "execution_count": 8,
     "metadata": {},
     "output_type": "execute_result"
    }
   ],
   "source": [
    "df.describe()"
   ]
  },
  {
   "cell_type": "markdown",
   "id": "f1b08fd0",
   "metadata": {},
   "source": [
    "# missing value treatement"
   ]
  },
  {
   "cell_type": "code",
   "execution_count": 9,
   "id": "cd38a007",
   "metadata": {},
   "outputs": [
    {
     "name": "stdout",
     "output_type": "stream",
     "text": [
      "<class 'pandas.core.frame.DataFrame'>\n",
      "RangeIndex: 400 entries, 0 to 399\n",
      "Data columns (total 19 columns):\n",
      " #   Column               Non-Null Count  Dtype  \n",
      "---  ------               --------------  -----  \n",
      " 0   Collection           400 non-null    int64  \n",
      " 1   Marketin_expense     400 non-null    float64\n",
      " 2   Production_expense   400 non-null    float64\n",
      " 3   Multiplex_coverage   400 non-null    float64\n",
      " 4   Budget               400 non-null    float64\n",
      " 5   Movie_length         400 non-null    float64\n",
      " 6   Lead_ Actor_Rating   400 non-null    float64\n",
      " 7   Lead_Actress_rating  400 non-null    float64\n",
      " 8   Director_rating      400 non-null    float64\n",
      " 9   Producer_rating      400 non-null    float64\n",
      " 10  Critic_rating        400 non-null    float64\n",
      " 11  Trailer_views        400 non-null    int64  \n",
      " 12  Time_taken           392 non-null    float64\n",
      " 13  Twitter_hastags      400 non-null    float64\n",
      " 14  Genre                400 non-null    object \n",
      " 15  Avg_age_actors       400 non-null    int64  \n",
      " 16  MPAA_film_rating     400 non-null    object \n",
      " 17  Num_multiplex        400 non-null    int64  \n",
      " 18  3D_available         400 non-null    object \n",
      "dtypes: float64(12), int64(4), object(3)\n",
      "memory usage: 59.5+ KB\n"
     ]
    }
   ],
   "source": [
    "df.info()"
   ]
  },
  {
   "cell_type": "markdown",
   "id": "79cefaaa",
   "metadata": {},
   "source": [
    "df.Time_taken = df.Time_taken.fillna(df.df.Time_taken.mean())"
   ]
  },
  {
   "cell_type": "code",
   "execution_count": 10,
   "id": "eb50dffd",
   "metadata": {},
   "outputs": [],
   "source": [
    "df.Time_taken = df.Time_taken.fillna(df.Time_taken.mean())"
   ]
  },
  {
   "cell_type": "code",
   "execution_count": 11,
   "id": "3f05ef07",
   "metadata": {},
   "outputs": [
    {
     "name": "stdout",
     "output_type": "stream",
     "text": [
      "<class 'pandas.core.frame.DataFrame'>\n",
      "RangeIndex: 400 entries, 0 to 399\n",
      "Data columns (total 19 columns):\n",
      " #   Column               Non-Null Count  Dtype  \n",
      "---  ------               --------------  -----  \n",
      " 0   Collection           400 non-null    int64  \n",
      " 1   Marketin_expense     400 non-null    float64\n",
      " 2   Production_expense   400 non-null    float64\n",
      " 3   Multiplex_coverage   400 non-null    float64\n",
      " 4   Budget               400 non-null    float64\n",
      " 5   Movie_length         400 non-null    float64\n",
      " 6   Lead_ Actor_Rating   400 non-null    float64\n",
      " 7   Lead_Actress_rating  400 non-null    float64\n",
      " 8   Director_rating      400 non-null    float64\n",
      " 9   Producer_rating      400 non-null    float64\n",
      " 10  Critic_rating        400 non-null    float64\n",
      " 11  Trailer_views        400 non-null    int64  \n",
      " 12  Time_taken           400 non-null    float64\n",
      " 13  Twitter_hastags      400 non-null    float64\n",
      " 14  Genre                400 non-null    object \n",
      " 15  Avg_age_actors       400 non-null    int64  \n",
      " 16  MPAA_film_rating     400 non-null    object \n",
      " 17  Num_multiplex        400 non-null    int64  \n",
      " 18  3D_available         400 non-null    object \n",
      "dtypes: float64(12), int64(4), object(3)\n",
      "memory usage: 59.5+ KB\n"
     ]
    }
   ],
   "source": [
    "df.info()"
   ]
  },
  {
   "cell_type": "markdown",
   "id": "7901a9df",
   "metadata": {},
   "source": [
    "# dummy varaiable creation"
   ]
  },
  {
   "cell_type": "code",
   "execution_count": 12,
   "id": "8487deb6",
   "metadata": {
    "scrolled": false
   },
   "outputs": [
    {
     "data": {
      "text/html": [
       "<div>\n",
       "<style scoped>\n",
       "    .dataframe tbody tr th:only-of-type {\n",
       "        vertical-align: middle;\n",
       "    }\n",
       "\n",
       "    .dataframe tbody tr th {\n",
       "        vertical-align: top;\n",
       "    }\n",
       "\n",
       "    .dataframe thead th {\n",
       "        text-align: right;\n",
       "    }\n",
       "</style>\n",
       "<table border=\"1\" class=\"dataframe\">\n",
       "  <thead>\n",
       "    <tr style=\"text-align: right;\">\n",
       "      <th></th>\n",
       "      <th>Collection</th>\n",
       "      <th>Marketin_expense</th>\n",
       "      <th>Production_expense</th>\n",
       "      <th>Multiplex_coverage</th>\n",
       "      <th>Budget</th>\n",
       "      <th>Movie_length</th>\n",
       "      <th>Lead_ Actor_Rating</th>\n",
       "      <th>Lead_Actress_rating</th>\n",
       "      <th>Director_rating</th>\n",
       "      <th>Producer_rating</th>\n",
       "      <th>Critic_rating</th>\n",
       "      <th>Trailer_views</th>\n",
       "      <th>Time_taken</th>\n",
       "      <th>Twitter_hastags</th>\n",
       "      <th>Genre</th>\n",
       "      <th>Avg_age_actors</th>\n",
       "      <th>MPAA_film_rating</th>\n",
       "      <th>Num_multiplex</th>\n",
       "      <th>3D_available</th>\n",
       "    </tr>\n",
       "  </thead>\n",
       "  <tbody>\n",
       "    <tr>\n",
       "      <th>0</th>\n",
       "      <td>48000</td>\n",
       "      <td>20.1264</td>\n",
       "      <td>59.62</td>\n",
       "      <td>0.462</td>\n",
       "      <td>36524.125</td>\n",
       "      <td>138.7</td>\n",
       "      <td>7.825</td>\n",
       "      <td>8.095</td>\n",
       "      <td>7.910</td>\n",
       "      <td>7.995</td>\n",
       "      <td>7.94</td>\n",
       "      <td>527367</td>\n",
       "      <td>109.60</td>\n",
       "      <td>223.840</td>\n",
       "      <td>Thriller</td>\n",
       "      <td>23</td>\n",
       "      <td>PG</td>\n",
       "      <td>494</td>\n",
       "      <td>YES</td>\n",
       "    </tr>\n",
       "    <tr>\n",
       "      <th>1</th>\n",
       "      <td>43200</td>\n",
       "      <td>20.5462</td>\n",
       "      <td>69.14</td>\n",
       "      <td>0.531</td>\n",
       "      <td>35668.655</td>\n",
       "      <td>152.4</td>\n",
       "      <td>7.505</td>\n",
       "      <td>7.650</td>\n",
       "      <td>7.440</td>\n",
       "      <td>7.470</td>\n",
       "      <td>7.44</td>\n",
       "      <td>494055</td>\n",
       "      <td>146.64</td>\n",
       "      <td>243.456</td>\n",
       "      <td>Drama</td>\n",
       "      <td>42</td>\n",
       "      <td>PG</td>\n",
       "      <td>462</td>\n",
       "      <td>NO</td>\n",
       "    </tr>\n",
       "    <tr>\n",
       "      <th>2</th>\n",
       "      <td>69400</td>\n",
       "      <td>20.5458</td>\n",
       "      <td>69.14</td>\n",
       "      <td>0.531</td>\n",
       "      <td>39912.675</td>\n",
       "      <td>134.6</td>\n",
       "      <td>7.485</td>\n",
       "      <td>7.570</td>\n",
       "      <td>7.495</td>\n",
       "      <td>7.515</td>\n",
       "      <td>7.44</td>\n",
       "      <td>547051</td>\n",
       "      <td>147.88</td>\n",
       "      <td>2022.400</td>\n",
       "      <td>Comedy</td>\n",
       "      <td>38</td>\n",
       "      <td>PG</td>\n",
       "      <td>458</td>\n",
       "      <td>NO</td>\n",
       "    </tr>\n",
       "    <tr>\n",
       "      <th>3</th>\n",
       "      <td>66800</td>\n",
       "      <td>20.6474</td>\n",
       "      <td>59.36</td>\n",
       "      <td>0.542</td>\n",
       "      <td>38873.890</td>\n",
       "      <td>119.3</td>\n",
       "      <td>6.895</td>\n",
       "      <td>7.035</td>\n",
       "      <td>6.920</td>\n",
       "      <td>7.020</td>\n",
       "      <td>8.26</td>\n",
       "      <td>516279</td>\n",
       "      <td>185.36</td>\n",
       "      <td>225.344</td>\n",
       "      <td>Drama</td>\n",
       "      <td>45</td>\n",
       "      <td>PG</td>\n",
       "      <td>472</td>\n",
       "      <td>YES</td>\n",
       "    </tr>\n",
       "    <tr>\n",
       "      <th>4</th>\n",
       "      <td>72400</td>\n",
       "      <td>21.3810</td>\n",
       "      <td>59.36</td>\n",
       "      <td>0.542</td>\n",
       "      <td>39701.585</td>\n",
       "      <td>127.7</td>\n",
       "      <td>6.920</td>\n",
       "      <td>7.070</td>\n",
       "      <td>6.815</td>\n",
       "      <td>7.070</td>\n",
       "      <td>8.26</td>\n",
       "      <td>531448</td>\n",
       "      <td>176.48</td>\n",
       "      <td>225.792</td>\n",
       "      <td>Drama</td>\n",
       "      <td>55</td>\n",
       "      <td>PG</td>\n",
       "      <td>395</td>\n",
       "      <td>NO</td>\n",
       "    </tr>\n",
       "  </tbody>\n",
       "</table>\n",
       "</div>"
      ],
      "text/plain": [
       "   Collection  Marketin_expense  Production_expense  Multiplex_coverage  \\\n",
       "0       48000           20.1264               59.62               0.462   \n",
       "1       43200           20.5462               69.14               0.531   \n",
       "2       69400           20.5458               69.14               0.531   \n",
       "3       66800           20.6474               59.36               0.542   \n",
       "4       72400           21.3810               59.36               0.542   \n",
       "\n",
       "      Budget  Movie_length  Lead_ Actor_Rating  Lead_Actress_rating  \\\n",
       "0  36524.125         138.7               7.825                8.095   \n",
       "1  35668.655         152.4               7.505                7.650   \n",
       "2  39912.675         134.6               7.485                7.570   \n",
       "3  38873.890         119.3               6.895                7.035   \n",
       "4  39701.585         127.7               6.920                7.070   \n",
       "\n",
       "   Director_rating  Producer_rating  Critic_rating  Trailer_views  Time_taken  \\\n",
       "0            7.910            7.995           7.94         527367      109.60   \n",
       "1            7.440            7.470           7.44         494055      146.64   \n",
       "2            7.495            7.515           7.44         547051      147.88   \n",
       "3            6.920            7.020           8.26         516279      185.36   \n",
       "4            6.815            7.070           8.26         531448      176.48   \n",
       "\n",
       "   Twitter_hastags     Genre  Avg_age_actors MPAA_film_rating  Num_multiplex  \\\n",
       "0          223.840  Thriller              23               PG            494   \n",
       "1          243.456     Drama              42               PG            462   \n",
       "2         2022.400    Comedy              38               PG            458   \n",
       "3          225.344     Drama              45               PG            472   \n",
       "4          225.792     Drama              55               PG            395   \n",
       "\n",
       "  3D_available  \n",
       "0          YES  \n",
       "1           NO  \n",
       "2           NO  \n",
       "3          YES  \n",
       "4           NO  "
      ]
     },
     "execution_count": 12,
     "metadata": {},
     "output_type": "execute_result"
    }
   ],
   "source": [
    "df.head()"
   ]
  },
  {
   "cell_type": "code",
   "execution_count": 13,
   "id": "f2a00be7",
   "metadata": {},
   "outputs": [],
   "source": [
    "del df['MPAA_film_rating']"
   ]
  },
  {
   "cell_type": "code",
   "execution_count": 14,
   "id": "dcb151ae",
   "metadata": {},
   "outputs": [],
   "source": [
    "df = pd.get_dummies(df,columns=[\"3D_available\",\"Genre\"],drop_first=True)"
   ]
  },
  {
   "cell_type": "code",
   "execution_count": 15,
   "id": "5a78c539",
   "metadata": {},
   "outputs": [
    {
     "data": {
      "text/html": [
       "<div>\n",
       "<style scoped>\n",
       "    .dataframe tbody tr th:only-of-type {\n",
       "        vertical-align: middle;\n",
       "    }\n",
       "\n",
       "    .dataframe tbody tr th {\n",
       "        vertical-align: top;\n",
       "    }\n",
       "\n",
       "    .dataframe thead th {\n",
       "        text-align: right;\n",
       "    }\n",
       "</style>\n",
       "<table border=\"1\" class=\"dataframe\">\n",
       "  <thead>\n",
       "    <tr style=\"text-align: right;\">\n",
       "      <th></th>\n",
       "      <th>Collection</th>\n",
       "      <th>Marketin_expense</th>\n",
       "      <th>Production_expense</th>\n",
       "      <th>Multiplex_coverage</th>\n",
       "      <th>Budget</th>\n",
       "      <th>Movie_length</th>\n",
       "      <th>Lead_ Actor_Rating</th>\n",
       "      <th>Lead_Actress_rating</th>\n",
       "      <th>Director_rating</th>\n",
       "      <th>Producer_rating</th>\n",
       "      <th>Critic_rating</th>\n",
       "      <th>Trailer_views</th>\n",
       "      <th>Time_taken</th>\n",
       "      <th>Twitter_hastags</th>\n",
       "      <th>Avg_age_actors</th>\n",
       "      <th>Num_multiplex</th>\n",
       "      <th>3D_available_YES</th>\n",
       "      <th>Genre_Comedy</th>\n",
       "      <th>Genre_Drama</th>\n",
       "      <th>Genre_Thriller</th>\n",
       "    </tr>\n",
       "  </thead>\n",
       "  <tbody>\n",
       "    <tr>\n",
       "      <th>0</th>\n",
       "      <td>48000</td>\n",
       "      <td>20.1264</td>\n",
       "      <td>59.62</td>\n",
       "      <td>0.462</td>\n",
       "      <td>36524.125</td>\n",
       "      <td>138.7</td>\n",
       "      <td>7.825</td>\n",
       "      <td>8.095</td>\n",
       "      <td>7.910</td>\n",
       "      <td>7.995</td>\n",
       "      <td>7.94</td>\n",
       "      <td>527367</td>\n",
       "      <td>109.60</td>\n",
       "      <td>223.840</td>\n",
       "      <td>23</td>\n",
       "      <td>494</td>\n",
       "      <td>1</td>\n",
       "      <td>0</td>\n",
       "      <td>0</td>\n",
       "      <td>1</td>\n",
       "    </tr>\n",
       "    <tr>\n",
       "      <th>1</th>\n",
       "      <td>43200</td>\n",
       "      <td>20.5462</td>\n",
       "      <td>69.14</td>\n",
       "      <td>0.531</td>\n",
       "      <td>35668.655</td>\n",
       "      <td>152.4</td>\n",
       "      <td>7.505</td>\n",
       "      <td>7.650</td>\n",
       "      <td>7.440</td>\n",
       "      <td>7.470</td>\n",
       "      <td>7.44</td>\n",
       "      <td>494055</td>\n",
       "      <td>146.64</td>\n",
       "      <td>243.456</td>\n",
       "      <td>42</td>\n",
       "      <td>462</td>\n",
       "      <td>0</td>\n",
       "      <td>0</td>\n",
       "      <td>1</td>\n",
       "      <td>0</td>\n",
       "    </tr>\n",
       "    <tr>\n",
       "      <th>2</th>\n",
       "      <td>69400</td>\n",
       "      <td>20.5458</td>\n",
       "      <td>69.14</td>\n",
       "      <td>0.531</td>\n",
       "      <td>39912.675</td>\n",
       "      <td>134.6</td>\n",
       "      <td>7.485</td>\n",
       "      <td>7.570</td>\n",
       "      <td>7.495</td>\n",
       "      <td>7.515</td>\n",
       "      <td>7.44</td>\n",
       "      <td>547051</td>\n",
       "      <td>147.88</td>\n",
       "      <td>2022.400</td>\n",
       "      <td>38</td>\n",
       "      <td>458</td>\n",
       "      <td>0</td>\n",
       "      <td>1</td>\n",
       "      <td>0</td>\n",
       "      <td>0</td>\n",
       "    </tr>\n",
       "    <tr>\n",
       "      <th>3</th>\n",
       "      <td>66800</td>\n",
       "      <td>20.6474</td>\n",
       "      <td>59.36</td>\n",
       "      <td>0.542</td>\n",
       "      <td>38873.890</td>\n",
       "      <td>119.3</td>\n",
       "      <td>6.895</td>\n",
       "      <td>7.035</td>\n",
       "      <td>6.920</td>\n",
       "      <td>7.020</td>\n",
       "      <td>8.26</td>\n",
       "      <td>516279</td>\n",
       "      <td>185.36</td>\n",
       "      <td>225.344</td>\n",
       "      <td>45</td>\n",
       "      <td>472</td>\n",
       "      <td>1</td>\n",
       "      <td>0</td>\n",
       "      <td>1</td>\n",
       "      <td>0</td>\n",
       "    </tr>\n",
       "    <tr>\n",
       "      <th>4</th>\n",
       "      <td>72400</td>\n",
       "      <td>21.3810</td>\n",
       "      <td>59.36</td>\n",
       "      <td>0.542</td>\n",
       "      <td>39701.585</td>\n",
       "      <td>127.7</td>\n",
       "      <td>6.920</td>\n",
       "      <td>7.070</td>\n",
       "      <td>6.815</td>\n",
       "      <td>7.070</td>\n",
       "      <td>8.26</td>\n",
       "      <td>531448</td>\n",
       "      <td>176.48</td>\n",
       "      <td>225.792</td>\n",
       "      <td>55</td>\n",
       "      <td>395</td>\n",
       "      <td>0</td>\n",
       "      <td>0</td>\n",
       "      <td>1</td>\n",
       "      <td>0</td>\n",
       "    </tr>\n",
       "  </tbody>\n",
       "</table>\n",
       "</div>"
      ],
      "text/plain": [
       "   Collection  Marketin_expense  Production_expense  Multiplex_coverage  \\\n",
       "0       48000           20.1264               59.62               0.462   \n",
       "1       43200           20.5462               69.14               0.531   \n",
       "2       69400           20.5458               69.14               0.531   \n",
       "3       66800           20.6474               59.36               0.542   \n",
       "4       72400           21.3810               59.36               0.542   \n",
       "\n",
       "      Budget  Movie_length  Lead_ Actor_Rating  Lead_Actress_rating  \\\n",
       "0  36524.125         138.7               7.825                8.095   \n",
       "1  35668.655         152.4               7.505                7.650   \n",
       "2  39912.675         134.6               7.485                7.570   \n",
       "3  38873.890         119.3               6.895                7.035   \n",
       "4  39701.585         127.7               6.920                7.070   \n",
       "\n",
       "   Director_rating  Producer_rating  Critic_rating  Trailer_views  Time_taken  \\\n",
       "0            7.910            7.995           7.94         527367      109.60   \n",
       "1            7.440            7.470           7.44         494055      146.64   \n",
       "2            7.495            7.515           7.44         547051      147.88   \n",
       "3            6.920            7.020           8.26         516279      185.36   \n",
       "4            6.815            7.070           8.26         531448      176.48   \n",
       "\n",
       "   Twitter_hastags  Avg_age_actors  Num_multiplex  3D_available_YES  \\\n",
       "0          223.840              23            494                 1   \n",
       "1          243.456              42            462                 0   \n",
       "2         2022.400              38            458                 0   \n",
       "3          225.344              45            472                 1   \n",
       "4          225.792              55            395                 0   \n",
       "\n",
       "   Genre_Comedy  Genre_Drama  Genre_Thriller  \n",
       "0             0            0               1  \n",
       "1             0            1               0  \n",
       "2             1            0               0  \n",
       "3             0            1               0  \n",
       "4             0            1               0  "
      ]
     },
     "execution_count": 15,
     "metadata": {},
     "output_type": "execute_result"
    }
   ],
   "source": [
    "df.head()"
   ]
  },
  {
   "cell_type": "markdown",
   "id": "c0a6f87c",
   "metadata": {},
   "source": [
    "# x-y split(splitting independent and dependent variables)"
   ]
  },
  {
   "cell_type": "code",
   "execution_count": 16,
   "id": "de3fa3f7",
   "metadata": {},
   "outputs": [],
   "source": [
    "x= df.drop(['Collection'],axis=1)"
   ]
  },
  {
   "cell_type": "code",
   "execution_count": 17,
   "id": "80cf20f8",
   "metadata": {},
   "outputs": [
    {
     "data": {
      "text/plain": [
       "pandas.core.frame.DataFrame"
      ]
     },
     "execution_count": 17,
     "metadata": {},
     "output_type": "execute_result"
    }
   ],
   "source": [
    "type(x)"
   ]
  },
  {
   "cell_type": "code",
   "execution_count": 18,
   "id": "652783b2",
   "metadata": {},
   "outputs": [
    {
     "data": {
      "text/html": [
       "<div>\n",
       "<style scoped>\n",
       "    .dataframe tbody tr th:only-of-type {\n",
       "        vertical-align: middle;\n",
       "    }\n",
       "\n",
       "    .dataframe tbody tr th {\n",
       "        vertical-align: top;\n",
       "    }\n",
       "\n",
       "    .dataframe thead th {\n",
       "        text-align: right;\n",
       "    }\n",
       "</style>\n",
       "<table border=\"1\" class=\"dataframe\">\n",
       "  <thead>\n",
       "    <tr style=\"text-align: right;\">\n",
       "      <th></th>\n",
       "      <th>Marketin_expense</th>\n",
       "      <th>Production_expense</th>\n",
       "      <th>Multiplex_coverage</th>\n",
       "      <th>Budget</th>\n",
       "      <th>Movie_length</th>\n",
       "      <th>Lead_ Actor_Rating</th>\n",
       "      <th>Lead_Actress_rating</th>\n",
       "      <th>Director_rating</th>\n",
       "      <th>Producer_rating</th>\n",
       "      <th>Critic_rating</th>\n",
       "      <th>Trailer_views</th>\n",
       "      <th>Time_taken</th>\n",
       "      <th>Twitter_hastags</th>\n",
       "      <th>Avg_age_actors</th>\n",
       "      <th>Num_multiplex</th>\n",
       "      <th>3D_available_YES</th>\n",
       "      <th>Genre_Comedy</th>\n",
       "      <th>Genre_Drama</th>\n",
       "      <th>Genre_Thriller</th>\n",
       "    </tr>\n",
       "  </thead>\n",
       "  <tbody>\n",
       "    <tr>\n",
       "      <th>0</th>\n",
       "      <td>20.1264</td>\n",
       "      <td>59.62</td>\n",
       "      <td>0.462</td>\n",
       "      <td>36524.125</td>\n",
       "      <td>138.7</td>\n",
       "      <td>7.825</td>\n",
       "      <td>8.095</td>\n",
       "      <td>7.910</td>\n",
       "      <td>7.995</td>\n",
       "      <td>7.94</td>\n",
       "      <td>527367</td>\n",
       "      <td>109.60</td>\n",
       "      <td>223.840</td>\n",
       "      <td>23</td>\n",
       "      <td>494</td>\n",
       "      <td>1</td>\n",
       "      <td>0</td>\n",
       "      <td>0</td>\n",
       "      <td>1</td>\n",
       "    </tr>\n",
       "    <tr>\n",
       "      <th>1</th>\n",
       "      <td>20.5462</td>\n",
       "      <td>69.14</td>\n",
       "      <td>0.531</td>\n",
       "      <td>35668.655</td>\n",
       "      <td>152.4</td>\n",
       "      <td>7.505</td>\n",
       "      <td>7.650</td>\n",
       "      <td>7.440</td>\n",
       "      <td>7.470</td>\n",
       "      <td>7.44</td>\n",
       "      <td>494055</td>\n",
       "      <td>146.64</td>\n",
       "      <td>243.456</td>\n",
       "      <td>42</td>\n",
       "      <td>462</td>\n",
       "      <td>0</td>\n",
       "      <td>0</td>\n",
       "      <td>1</td>\n",
       "      <td>0</td>\n",
       "    </tr>\n",
       "    <tr>\n",
       "      <th>2</th>\n",
       "      <td>20.5458</td>\n",
       "      <td>69.14</td>\n",
       "      <td>0.531</td>\n",
       "      <td>39912.675</td>\n",
       "      <td>134.6</td>\n",
       "      <td>7.485</td>\n",
       "      <td>7.570</td>\n",
       "      <td>7.495</td>\n",
       "      <td>7.515</td>\n",
       "      <td>7.44</td>\n",
       "      <td>547051</td>\n",
       "      <td>147.88</td>\n",
       "      <td>2022.400</td>\n",
       "      <td>38</td>\n",
       "      <td>458</td>\n",
       "      <td>0</td>\n",
       "      <td>1</td>\n",
       "      <td>0</td>\n",
       "      <td>0</td>\n",
       "    </tr>\n",
       "    <tr>\n",
       "      <th>3</th>\n",
       "      <td>20.6474</td>\n",
       "      <td>59.36</td>\n",
       "      <td>0.542</td>\n",
       "      <td>38873.890</td>\n",
       "      <td>119.3</td>\n",
       "      <td>6.895</td>\n",
       "      <td>7.035</td>\n",
       "      <td>6.920</td>\n",
       "      <td>7.020</td>\n",
       "      <td>8.26</td>\n",
       "      <td>516279</td>\n",
       "      <td>185.36</td>\n",
       "      <td>225.344</td>\n",
       "      <td>45</td>\n",
       "      <td>472</td>\n",
       "      <td>1</td>\n",
       "      <td>0</td>\n",
       "      <td>1</td>\n",
       "      <td>0</td>\n",
       "    </tr>\n",
       "    <tr>\n",
       "      <th>4</th>\n",
       "      <td>21.3810</td>\n",
       "      <td>59.36</td>\n",
       "      <td>0.542</td>\n",
       "      <td>39701.585</td>\n",
       "      <td>127.7</td>\n",
       "      <td>6.920</td>\n",
       "      <td>7.070</td>\n",
       "      <td>6.815</td>\n",
       "      <td>7.070</td>\n",
       "      <td>8.26</td>\n",
       "      <td>531448</td>\n",
       "      <td>176.48</td>\n",
       "      <td>225.792</td>\n",
       "      <td>55</td>\n",
       "      <td>395</td>\n",
       "      <td>0</td>\n",
       "      <td>0</td>\n",
       "      <td>1</td>\n",
       "      <td>0</td>\n",
       "    </tr>\n",
       "  </tbody>\n",
       "</table>\n",
       "</div>"
      ],
      "text/plain": [
       "   Marketin_expense  Production_expense  Multiplex_coverage     Budget  \\\n",
       "0           20.1264               59.62               0.462  36524.125   \n",
       "1           20.5462               69.14               0.531  35668.655   \n",
       "2           20.5458               69.14               0.531  39912.675   \n",
       "3           20.6474               59.36               0.542  38873.890   \n",
       "4           21.3810               59.36               0.542  39701.585   \n",
       "\n",
       "   Movie_length  Lead_ Actor_Rating  Lead_Actress_rating  Director_rating  \\\n",
       "0         138.7               7.825                8.095            7.910   \n",
       "1         152.4               7.505                7.650            7.440   \n",
       "2         134.6               7.485                7.570            7.495   \n",
       "3         119.3               6.895                7.035            6.920   \n",
       "4         127.7               6.920                7.070            6.815   \n",
       "\n",
       "   Producer_rating  Critic_rating  Trailer_views  Time_taken  Twitter_hastags  \\\n",
       "0            7.995           7.94         527367      109.60          223.840   \n",
       "1            7.470           7.44         494055      146.64          243.456   \n",
       "2            7.515           7.44         547051      147.88         2022.400   \n",
       "3            7.020           8.26         516279      185.36          225.344   \n",
       "4            7.070           8.26         531448      176.48          225.792   \n",
       "\n",
       "   Avg_age_actors  Num_multiplex  3D_available_YES  Genre_Comedy  Genre_Drama  \\\n",
       "0              23            494                 1             0            0   \n",
       "1              42            462                 0             0            1   \n",
       "2              38            458                 0             1            0   \n",
       "3              45            472                 1             0            1   \n",
       "4              55            395                 0             0            1   \n",
       "\n",
       "   Genre_Thriller  \n",
       "0               1  \n",
       "1               0  \n",
       "2               0  \n",
       "3               0  \n",
       "4               0  "
      ]
     },
     "execution_count": 18,
     "metadata": {},
     "output_type": "execute_result"
    }
   ],
   "source": [
    "x.head()"
   ]
  },
  {
   "cell_type": "code",
   "execution_count": 19,
   "id": "dceb88a4",
   "metadata": {},
   "outputs": [],
   "source": [
    "y=df['Collection']"
   ]
  },
  {
   "cell_type": "code",
   "execution_count": 20,
   "id": "2c229585",
   "metadata": {
    "scrolled": false
   },
   "outputs": [
    {
     "data": {
      "text/plain": [
       "0    48000\n",
       "1    43200\n",
       "2    69400\n",
       "3    66800\n",
       "4    72400\n",
       "Name: Collection, dtype: int64"
      ]
     },
     "execution_count": 20,
     "metadata": {},
     "output_type": "execute_result"
    }
   ],
   "source": [
    "y.head()"
   ]
  },
  {
   "cell_type": "markdown",
   "id": "6e7556e6",
   "metadata": {},
   "source": [
    "# test-train split"
   ]
  },
  {
   "cell_type": "code",
   "execution_count": 21,
   "id": "21f05a49",
   "metadata": {},
   "outputs": [],
   "source": [
    "from sklearn.model_selection import train_test_split\n"
   ]
  },
  {
   "cell_type": "markdown",
   "id": "41904207",
   "metadata": {},
   "source": [
    "x_train,x_test,y_train,y_test = train_test_split(x,y,test_size=0.2,random_state=0)"
   ]
  },
  {
   "cell_type": "code",
   "execution_count": 23,
   "id": "8b094bf3",
   "metadata": {},
   "outputs": [
    {
     "data": {
      "text/html": [
       "<div>\n",
       "<style scoped>\n",
       "    .dataframe tbody tr th:only-of-type {\n",
       "        vertical-align: middle;\n",
       "    }\n",
       "\n",
       "    .dataframe tbody tr th {\n",
       "        vertical-align: top;\n",
       "    }\n",
       "\n",
       "    .dataframe thead th {\n",
       "        text-align: right;\n",
       "    }\n",
       "</style>\n",
       "<table border=\"1\" class=\"dataframe\">\n",
       "  <thead>\n",
       "    <tr style=\"text-align: right;\">\n",
       "      <th></th>\n",
       "      <th>Marketin_expense</th>\n",
       "      <th>Production_expense</th>\n",
       "      <th>Multiplex_coverage</th>\n",
       "      <th>Budget</th>\n",
       "      <th>Movie_length</th>\n",
       "      <th>Lead_ Actor_Rating</th>\n",
       "      <th>Lead_Actress_rating</th>\n",
       "      <th>Director_rating</th>\n",
       "      <th>Producer_rating</th>\n",
       "      <th>Critic_rating</th>\n",
       "      <th>Trailer_views</th>\n",
       "      <th>Time_taken</th>\n",
       "      <th>Twitter_hastags</th>\n",
       "      <th>Avg_age_actors</th>\n",
       "      <th>Num_multiplex</th>\n",
       "      <th>3D_available_YES</th>\n",
       "      <th>Genre_Comedy</th>\n",
       "      <th>Genre_Drama</th>\n",
       "      <th>Genre_Thriller</th>\n",
       "    </tr>\n",
       "  </thead>\n",
       "  <tbody>\n",
       "    <tr>\n",
       "      <th>336</th>\n",
       "      <td>20.6854</td>\n",
       "      <td>65.38</td>\n",
       "      <td>0.4850</td>\n",
       "      <td>32602.295</td>\n",
       "      <td>119.8</td>\n",
       "      <td>7.250</td>\n",
       "      <td>7.545</td>\n",
       "      <td>7.250</td>\n",
       "      <td>7.495</td>\n",
       "      <td>6.96</td>\n",
       "      <td>483878</td>\n",
       "      <td>201.80</td>\n",
       "      <td>303.120</td>\n",
       "      <td>53</td>\n",
       "      <td>447</td>\n",
       "      <td>0</td>\n",
       "      <td>0</td>\n",
       "      <td>0</td>\n",
       "      <td>1</td>\n",
       "    </tr>\n",
       "    <tr>\n",
       "      <th>64</th>\n",
       "      <td>20.3902</td>\n",
       "      <td>57.76</td>\n",
       "      <td>0.5839</td>\n",
       "      <td>39462.720</td>\n",
       "      <td>133.0</td>\n",
       "      <td>5.280</td>\n",
       "      <td>5.455</td>\n",
       "      <td>5.315</td>\n",
       "      <td>5.505</td>\n",
       "      <td>7.28</td>\n",
       "      <td>477265</td>\n",
       "      <td>165.20</td>\n",
       "      <td>205.280</td>\n",
       "      <td>30</td>\n",
       "      <td>390</td>\n",
       "      <td>1</td>\n",
       "      <td>0</td>\n",
       "      <td>0</td>\n",
       "      <td>0</td>\n",
       "    </tr>\n",
       "    <tr>\n",
       "      <th>55</th>\n",
       "      <td>20.2622</td>\n",
       "      <td>57.44</td>\n",
       "      <td>0.5970</td>\n",
       "      <td>40268.195</td>\n",
       "      <td>95.4</td>\n",
       "      <td>5.550</td>\n",
       "      <td>5.795</td>\n",
       "      <td>5.605</td>\n",
       "      <td>5.655</td>\n",
       "      <td>8.42</td>\n",
       "      <td>512329</td>\n",
       "      <td>150.16</td>\n",
       "      <td>265.664</td>\n",
       "      <td>50</td>\n",
       "      <td>480</td>\n",
       "      <td>1</td>\n",
       "      <td>0</td>\n",
       "      <td>0</td>\n",
       "      <td>1</td>\n",
       "    </tr>\n",
       "    <tr>\n",
       "      <th>106</th>\n",
       "      <td>23.4240</td>\n",
       "      <td>72.12</td>\n",
       "      <td>0.4800</td>\n",
       "      <td>32418.980</td>\n",
       "      <td>165.4</td>\n",
       "      <td>8.815</td>\n",
       "      <td>8.965</td>\n",
       "      <td>8.760</td>\n",
       "      <td>9.040</td>\n",
       "      <td>6.82</td>\n",
       "      <td>405008</td>\n",
       "      <td>205.80</td>\n",
       "      <td>283.120</td>\n",
       "      <td>20</td>\n",
       "      <td>482</td>\n",
       "      <td>1</td>\n",
       "      <td>0</td>\n",
       "      <td>1</td>\n",
       "      <td>0</td>\n",
       "    </tr>\n",
       "    <tr>\n",
       "      <th>300</th>\n",
       "      <td>20.8834</td>\n",
       "      <td>59.48</td>\n",
       "      <td>0.6000</td>\n",
       "      <td>38168.405</td>\n",
       "      <td>120.9</td>\n",
       "      <td>5.955</td>\n",
       "      <td>6.160</td>\n",
       "      <td>6.055</td>\n",
       "      <td>6.175</td>\n",
       "      <td>9.04</td>\n",
       "      <td>503113</td>\n",
       "      <td>181.92</td>\n",
       "      <td>223.968</td>\n",
       "      <td>29</td>\n",
       "      <td>429</td>\n",
       "      <td>1</td>\n",
       "      <td>0</td>\n",
       "      <td>0</td>\n",
       "      <td>1</td>\n",
       "    </tr>\n",
       "  </tbody>\n",
       "</table>\n",
       "</div>"
      ],
      "text/plain": [
       "     Marketin_expense  Production_expense  Multiplex_coverage     Budget  \\\n",
       "336           20.6854               65.38              0.4850  32602.295   \n",
       "64            20.3902               57.76              0.5839  39462.720   \n",
       "55            20.2622               57.44              0.5970  40268.195   \n",
       "106           23.4240               72.12              0.4800  32418.980   \n",
       "300           20.8834               59.48              0.6000  38168.405   \n",
       "\n",
       "     Movie_length  Lead_ Actor_Rating  Lead_Actress_rating  Director_rating  \\\n",
       "336         119.8               7.250                7.545            7.250   \n",
       "64          133.0               5.280                5.455            5.315   \n",
       "55           95.4               5.550                5.795            5.605   \n",
       "106         165.4               8.815                8.965            8.760   \n",
       "300         120.9               5.955                6.160            6.055   \n",
       "\n",
       "     Producer_rating  Critic_rating  Trailer_views  Time_taken  \\\n",
       "336            7.495           6.96         483878      201.80   \n",
       "64             5.505           7.28         477265      165.20   \n",
       "55             5.655           8.42         512329      150.16   \n",
       "106            9.040           6.82         405008      205.80   \n",
       "300            6.175           9.04         503113      181.92   \n",
       "\n",
       "     Twitter_hastags  Avg_age_actors  Num_multiplex  3D_available_YES  \\\n",
       "336          303.120              53            447                 0   \n",
       "64           205.280              30            390                 1   \n",
       "55           265.664              50            480                 1   \n",
       "106          283.120              20            482                 1   \n",
       "300          223.968              29            429                 1   \n",
       "\n",
       "     Genre_Comedy  Genre_Drama  Genre_Thriller  \n",
       "336             0            0               1  \n",
       "64              0            0               0  \n",
       "55              0            0               1  \n",
       "106             0            1               0  \n",
       "300             0            0               1  "
      ]
     },
     "execution_count": 23,
     "metadata": {},
     "output_type": "execute_result"
    }
   ],
   "source": [
    "x_train.head()"
   ]
  },
  {
   "cell_type": "code",
   "execution_count": 24,
   "id": "accc350a",
   "metadata": {
    "scrolled": true
   },
   "outputs": [
    {
     "data": {
      "text/plain": [
       "336    39000\n",
       "64     66000\n",
       "55     70800\n",
       "106    39000\n",
       "300    49600\n",
       "Name: Collection, dtype: int64"
      ]
     },
     "execution_count": 24,
     "metadata": {},
     "output_type": "execute_result"
    }
   ],
   "source": [
    "y_train.head()"
   ]
  },
  {
   "cell_type": "code",
   "execution_count": 25,
   "id": "7c815848",
   "metadata": {},
   "outputs": [
    {
     "data": {
      "text/plain": [
       "(320, 19)"
      ]
     },
     "execution_count": 25,
     "metadata": {},
     "output_type": "execute_result"
    }
   ],
   "source": [
    "x_train.shape"
   ]
  },
  {
   "cell_type": "code",
   "execution_count": 26,
   "id": "ce76300f",
   "metadata": {},
   "outputs": [
    {
     "data": {
      "text/plain": [
       "(80, 19)"
      ]
     },
     "execution_count": 26,
     "metadata": {},
     "output_type": "execute_result"
    }
   ],
   "source": [
    "x_test.shape"
   ]
  },
  {
   "cell_type": "markdown",
   "id": "ec961d10",
   "metadata": {},
   "source": [
    "# traing regression tree"
   ]
  },
  {
   "cell_type": "code",
   "execution_count": 27,
   "id": "f5ca263d",
   "metadata": {},
   "outputs": [],
   "source": [
    "from sklearn import tree"
   ]
  },
  {
   "cell_type": "code",
   "execution_count": 28,
   "id": "090709aa",
   "metadata": {},
   "outputs": [],
   "source": [
    "regtree = tree.DecisionTreeRegressor(max_depth =3)"
   ]
  },
  {
   "cell_type": "code",
   "execution_count": 29,
   "id": "be3653eb",
   "metadata": {},
   "outputs": [
    {
     "data": {
      "text/plain": [
       "DecisionTreeRegressor(max_depth=3)"
      ]
     },
     "execution_count": 29,
     "metadata": {},
     "output_type": "execute_result"
    }
   ],
   "source": [
    "regtree.fit(x_train,y_train)"
   ]
  },
  {
   "cell_type": "markdown",
   "id": "cedbb217",
   "metadata": {},
   "source": [
    "# predecting values"
   ]
  },
  {
   "cell_type": "code",
   "execution_count": 30,
   "id": "1db79c0f",
   "metadata": {},
   "outputs": [],
   "source": [
    "y_train_pred = regtree.predict(x_train)"
   ]
  },
  {
   "cell_type": "code",
   "execution_count": 31,
   "id": "b914de63",
   "metadata": {},
   "outputs": [],
   "source": [
    "\n",
    "y_test_pred = regtree.predict(x_test)"
   ]
  },
  {
   "cell_type": "code",
   "execution_count": 32,
   "id": "b5798797",
   "metadata": {},
   "outputs": [
    {
     "data": {
      "text/plain": [
       "array([ 47146.66666667,  64866.66666667,  64866.66666667,  37268.96551724,\n",
       "        64866.66666667,  47146.66666667,  37268.96551724,  22834.7826087 ,\n",
       "        22834.7826087 ,  47146.66666667,  25400.        ,  91725.        ,\n",
       "        47146.66666667,  37268.96551724,  64866.66666667,  37268.96551724,\n",
       "        37268.96551724,  22834.7826087 ,  64866.66666667,  43800.        ,\n",
       "        47146.66666667,  47146.66666667,  47146.66666667,  47146.66666667,\n",
       "        91725.        ,  47146.66666667,  47146.66666667,  64866.66666667,\n",
       "        37268.96551724,  47146.66666667,  47146.66666667,  64866.66666667,\n",
       "        47146.66666667,  47146.66666667,  47146.66666667,  37268.96551724,\n",
       "        64866.66666667,  37268.96551724,  47146.66666667,  47146.66666667,\n",
       "        47146.66666667,  47146.66666667,  47146.66666667,  91725.        ,\n",
       "        22834.7826087 ,  37268.96551724,  37268.96551724,  64866.66666667,\n",
       "        47146.66666667,  47146.66666667,  37268.96551724,  22834.7826087 ,\n",
       "        47146.66666667,  64866.66666667,  37268.96551724,  47146.66666667,\n",
       "        47146.66666667,  47146.66666667,  47146.66666667,  37268.96551724,\n",
       "        47146.66666667,  91725.        ,  37268.96551724,  37268.96551724,\n",
       "        64866.66666667,  37268.96551724,  47146.66666667,  37268.96551724,\n",
       "        47146.66666667,  37268.96551724,  47146.66666667,  47146.66666667,\n",
       "        47146.66666667,  37268.96551724,  47146.66666667,  37268.96551724,\n",
       "        64866.66666667,  37268.96551724,  64866.66666667,  64866.66666667,\n",
       "        64866.66666667,  37268.96551724,  37268.96551724,  22834.7826087 ,\n",
       "        91725.        ,  37268.96551724,  64866.66666667,  91725.        ,\n",
       "        47146.66666667,  37268.96551724,  47146.66666667,  91725.        ,\n",
       "        64866.66666667,  37268.96551724,  47146.66666667,  47146.66666667,\n",
       "        47146.66666667,  37268.96551724,  47146.66666667,  22834.7826087 ,\n",
       "        91725.        ,  47146.66666667,  37268.96551724,  22834.7826087 ,\n",
       "        64866.66666667,  37268.96551724,  47146.66666667,  47146.66666667,\n",
       "        47146.66666667,  47146.66666667,  47146.66666667,  47146.66666667,\n",
       "        47146.66666667,  37268.96551724,  64866.66666667,  47146.66666667,\n",
       "        37268.96551724,  37268.96551724,  22834.7826087 ,  37268.96551724,\n",
       "        37268.96551724,  47146.66666667,  37268.96551724,  47146.66666667,\n",
       "        47146.66666667,  64866.66666667,  47146.66666667,  47146.66666667,\n",
       "        91725.        ,  22834.7826087 ,  47146.66666667,  37268.96551724,\n",
       "        47146.66666667,  47146.66666667,  47146.66666667,  37268.96551724,\n",
       "        47146.66666667,  47146.66666667,  91725.        ,  22834.7826087 ,\n",
       "        22834.7826087 ,  47146.66666667,  64866.66666667,  37268.96551724,\n",
       "        64866.66666667,  47146.66666667,  47146.66666667,  22834.7826087 ,\n",
       "        47146.66666667,  47146.66666667,  47146.66666667,  47146.66666667,\n",
       "        22834.7826087 ,  22834.7826087 ,  91725.        ,  47146.66666667,\n",
       "        37268.96551724,  91725.        ,  47146.66666667,  64866.66666667,\n",
       "        22834.7826087 ,  37268.96551724,  47146.66666667,  47146.66666667,\n",
       "        37268.96551724,  25400.        ,  37268.96551724,  37268.96551724,\n",
       "        64866.66666667,  37268.96551724,  47146.66666667,  37268.96551724,\n",
       "        47146.66666667,  37268.96551724,  37268.96551724,  47146.66666667,\n",
       "        47146.66666667,  37268.96551724,  64866.66666667,  47146.66666667,\n",
       "        47146.66666667,  47146.66666667,  47146.66666667,  91725.        ,\n",
       "        64866.66666667,  64866.66666667,  64866.66666667,  37268.96551724,\n",
       "        47146.66666667,  37268.96551724,  47146.66666667,  22834.7826087 ,\n",
       "        47146.66666667,  64866.66666667,  22834.7826087 ,  47146.66666667,\n",
       "        64866.66666667,  37268.96551724,  47146.66666667,  37268.96551724,\n",
       "        64866.66666667,  47146.66666667,  22834.7826087 ,  47146.66666667,\n",
       "        47146.66666667,  37268.96551724,  37268.96551724,  37268.96551724,\n",
       "        37268.96551724,  37268.96551724,  37268.96551724,  37268.96551724,\n",
       "        64866.66666667,  47146.66666667,  47146.66666667,  47146.66666667,\n",
       "        47146.66666667,  37268.96551724,  47146.66666667,  47146.66666667,\n",
       "        47146.66666667,  47146.66666667,  91725.        ,  22834.7826087 ,\n",
       "        64866.66666667,  91725.        ,  47146.66666667, 100000.        ,\n",
       "        47146.66666667,  47146.66666667,  37268.96551724,  47146.66666667,\n",
       "        47146.66666667,  37268.96551724,  37268.96551724,  64866.66666667,\n",
       "        64866.66666667,  37268.96551724,  37268.96551724,  91725.        ,\n",
       "        37268.96551724,  47146.66666667,  22834.7826087 ,  91725.        ,\n",
       "        47146.66666667,  91725.        ,  37268.96551724,  37268.96551724,\n",
       "        47146.66666667,  37268.96551724,  47146.66666667,  47146.66666667,\n",
       "        91725.        ,  47146.66666667,  64866.66666667,  64866.66666667,\n",
       "        47146.66666667,  91725.        ,  47146.66666667,  47146.66666667,\n",
       "        37268.96551724, 100000.        ,  91725.        ,  47146.66666667,\n",
       "        47146.66666667,  47146.66666667,  47146.66666667,  37268.96551724,\n",
       "        64866.66666667,  37268.96551724,  47146.66666667,  91725.        ,\n",
       "        47146.66666667,  47146.66666667,  91725.        ,  37268.96551724,\n",
       "        37268.96551724,  37268.96551724,  47146.66666667, 100000.        ,\n",
       "        47146.66666667,  37268.96551724,  37268.96551724,  47146.66666667,\n",
       "        64866.66666667,  47146.66666667,  64866.66666667,  47146.66666667,\n",
       "        47146.66666667,  64866.66666667,  47146.66666667,  37268.96551724,\n",
       "        47146.66666667,  47146.66666667,  47146.66666667,  37268.96551724,\n",
       "        47146.66666667,  37268.96551724,  22834.7826087 ,  47146.66666667,\n",
       "        22834.7826087 ,  47146.66666667,  64866.66666667,  47146.66666667,\n",
       "        64866.66666667,  47146.66666667,  47146.66666667,  47146.66666667,\n",
       "        47146.66666667,  64866.66666667,  37268.96551724,  37268.96551724,\n",
       "        37268.96551724,  91725.        ,  47146.66666667,  37268.96551724,\n",
       "        64866.66666667,  37268.96551724,  37268.96551724,  37268.96551724])"
      ]
     },
     "execution_count": 32,
     "metadata": {},
     "output_type": "execute_result"
    }
   ],
   "source": [
    "\n",
    "y_train_pred\n"
   ]
  },
  {
   "cell_type": "code",
   "execution_count": 33,
   "id": "9b765d8e",
   "metadata": {},
   "outputs": [
    {
     "data": {
      "text/plain": [
       "array([47146.66666667, 47146.66666667, 64866.66666667, 64866.66666667,\n",
       "       47146.66666667, 47146.66666667, 37268.96551724, 91725.        ,\n",
       "       37268.96551724, 37268.96551724, 47146.66666667, 37268.96551724,\n",
       "       37268.96551724, 47146.66666667, 37268.96551724, 47146.66666667,\n",
       "       47146.66666667, 37268.96551724, 37268.96551724, 64866.66666667,\n",
       "       47146.66666667, 91725.        , 37268.96551724, 64866.66666667,\n",
       "       47146.66666667, 47146.66666667, 37268.96551724, 47146.66666667,\n",
       "       37268.96551724, 47146.66666667, 37268.96551724, 64866.66666667,\n",
       "       47146.66666667, 91725.        , 47146.66666667, 47146.66666667,\n",
       "       47146.66666667, 47146.66666667, 64866.66666667, 22834.7826087 ,\n",
       "       47146.66666667, 47146.66666667, 47146.66666667, 47146.66666667,\n",
       "       37268.96551724, 37268.96551724, 22834.7826087 , 47146.66666667,\n",
       "       47146.66666667, 91725.        , 47146.66666667, 37268.96551724,\n",
       "       47146.66666667, 47146.66666667, 91725.        , 47146.66666667,\n",
       "       47146.66666667, 37268.96551724, 37268.96551724, 47146.66666667,\n",
       "       47146.66666667, 47146.66666667, 64866.66666667, 47146.66666667,\n",
       "       47146.66666667, 22834.7826087 , 37268.96551724, 47146.66666667,\n",
       "       37268.96551724, 37268.96551724, 37268.96551724, 64866.66666667,\n",
       "       47146.66666667, 37268.96551724, 37268.96551724, 47146.66666667,\n",
       "       37268.96551724, 64866.66666667, 47146.66666667, 47146.66666667])"
      ]
     },
     "execution_count": 33,
     "metadata": {},
     "output_type": "execute_result"
    }
   ],
   "source": [
    "y_test_pred"
   ]
  },
  {
   "cell_type": "markdown",
   "id": "c53d693c",
   "metadata": {},
   "source": [
    "\n",
    "# model perfomance"
   ]
  },
  {
   "cell_type": "code",
   "execution_count": 34,
   "id": "4b75ba5c",
   "metadata": {},
   "outputs": [],
   "source": [
    "from sklearn.metrics import mean_squared_error,r2_score"
   ]
  },
  {
   "cell_type": "code",
   "execution_count": 35,
   "id": "4d34955d",
   "metadata": {},
   "outputs": [
    {
     "data": {
      "text/plain": [
       "116554023.96381056"
      ]
     },
     "execution_count": 35,
     "metadata": {},
     "output_type": "execute_result"
    }
   ],
   "source": [
    "mean_squared_error(y_test,y_test_pred)"
   ]
  },
  {
   "cell_type": "code",
   "execution_count": 36,
   "id": "c246da35",
   "metadata": {},
   "outputs": [
    {
     "data": {
      "text/plain": [
       "0.8477196523486658"
      ]
     },
     "execution_count": 36,
     "metadata": {},
     "output_type": "execute_result"
    }
   ],
   "source": [
    "r2_score(y_train,y_train_pred)"
   ]
  },
  {
   "cell_type": "code",
   "execution_count": 39,
   "id": "dfd3ed05",
   "metadata": {},
   "outputs": [
    {
     "data": {
      "text/plain": [
       "0.6241422194036836"
      ]
     },
     "execution_count": 39,
     "metadata": {},
     "output_type": "execute_result"
    }
   ],
   "source": [
    "r2_score(y_test,y_test_pred)\n"
   ]
  },
  {
   "cell_type": "code",
   "execution_count": null,
   "id": "392cb146",
   "metadata": {},
   "outputs": [],
   "source": []
  },
  {
   "cell_type": "code",
   "execution_count": 45,
   "id": "1de4e0b3",
   "metadata": {},
   "outputs": [],
   "source": [
    "import xgboost as xgb"
   ]
  },
  {
   "cell_type": "code",
   "execution_count": 47,
   "id": "3aab22c4",
   "metadata": {},
   "outputs": [],
   "source": [
    "model=xgb.XGBRegressor()"
   ]
  },
  {
   "cell_type": "code",
   "execution_count": 48,
   "id": "90759677",
   "metadata": {},
   "outputs": [
    {
     "data": {
      "text/plain": [
       "XGBRegressor(base_score=0.5, booster='gbtree', colsample_bylevel=1,\n",
       "             colsample_bynode=1, colsample_bytree=1, enable_categorical=False,\n",
       "             gamma=0, gpu_id=-1, importance_type=None,\n",
       "             interaction_constraints='', learning_rate=0.300000012,\n",
       "             max_delta_step=0, max_depth=6, min_child_weight=1, missing=nan,\n",
       "             monotone_constraints='()', n_estimators=100, n_jobs=8,\n",
       "             num_parallel_tree=1, predictor='auto', random_state=0, reg_alpha=0,\n",
       "             reg_lambda=1, scale_pos_weight=1, subsample=1, tree_method='exact',\n",
       "             validate_parameters=1, verbosity=None)"
      ]
     },
     "execution_count": 48,
     "metadata": {},
     "output_type": "execute_result"
    }
   ],
   "source": [
    "model.fit(x_train,y_train)"
   ]
  },
  {
   "cell_type": "code",
   "execution_count": 49,
   "id": "aa9d3729",
   "metadata": {},
   "outputs": [],
   "source": [
    "y_train_pred = model.predict(x_train)"
   ]
  },
  {
   "cell_type": "code",
   "execution_count": 50,
   "id": "bd75d613",
   "metadata": {},
   "outputs": [],
   "source": [
    "y_test_pred = model.predict(x_test)"
   ]
  },
  {
   "cell_type": "code",
   "execution_count": 51,
   "id": "4628b37f",
   "metadata": {},
   "outputs": [
    {
     "data": {
      "text/plain": [
       "array([39472.645, 43361.06 , 71140.695, 62598.375, 41809.715, 35873.883,\n",
       "       40336.383, 93873.01 , 27434.168, 39253.6  , 39795.613, 35630.902,\n",
       "       38955.047, 52183.2  , 39950.414, 37973.71 , 45393.516, 31212.17 ,\n",
       "       44230.516, 58936.01 , 43737.07 , 93594.01 , 39894.957, 61601.543,\n",
       "       49093.75 , 47029.37 , 42876.5  , 36478.184, 40505.34 , 39795.203,\n",
       "       42476.65 , 66486.45 , 45957.207, 83129.516, 48428.273, 42410.773,\n",
       "       48950.69 , 50069.938, 59753.848, 20013.174, 57083.156, 42366.766,\n",
       "       38611.098, 44017.664, 39041.93 , 33691.34 , 29037.203, 38569.137,\n",
       "       43294.695, 81870.31 , 41927.18 , 27543.53 , 42971.098, 44740.316,\n",
       "       84965.51 , 45683.05 , 49557.062, 32423.01 , 32127.967, 37159.426,\n",
       "       49702.074, 44840.664, 66079.27 , 36201.62 , 56701.86 , 54746.684,\n",
       "       28741.707, 39887.598, 40894.152, 43562.86 , 36134.89 , 71726.41 ,\n",
       "       35450.062, 32314.896, 42241.32 , 38963.137, 44600.207, 71650.016,\n",
       "       44501.25 , 50373.305], dtype=float32)"
      ]
     },
     "execution_count": 51,
     "metadata": {},
     "output_type": "execute_result"
    }
   ],
   "source": [
    "y_test_pred"
   ]
  },
  {
   "cell_type": "code",
   "execution_count": 54,
   "id": "e53749fe",
   "metadata": {
    "scrolled": true
   },
   "outputs": [
    {
     "data": {
      "text/plain": [
       "0.9999999390990589"
      ]
     },
     "execution_count": 54,
     "metadata": {},
     "output_type": "execute_result"
    }
   ],
   "source": [
    "r2_score(y_train,y_train_pred)"
   ]
  },
  {
   "cell_type": "code",
   "execution_count": 64,
   "id": "2f9fa9b9",
   "metadata": {},
   "outputs": [
    {
     "data": {
      "text/plain": [
       "0.8086699217219401"
      ]
     },
     "execution_count": 64,
     "metadata": {},
     "output_type": "execute_result"
    }
   ],
   "source": [
    "r2_score(y_test,y_test_pred)"
   ]
  },
  {
   "cell_type": "code",
   "execution_count": null,
   "id": "bcf252eb",
   "metadata": {},
   "outputs": [],
   "source": []
  }
 ],
 "metadata": {
  "kernelspec": {
   "display_name": "Python 3",
   "language": "python",
   "name": "python3"
  },
  "language_info": {
   "codemirror_mode": {
    "name": "ipython",
    "version": 3
   },
   "file_extension": ".py",
   "mimetype": "text/x-python",
   "name": "python",
   "nbconvert_exporter": "python",
   "pygments_lexer": "ipython3",
   "version": "3.8.8"
  }
 },
 "nbformat": 4,
 "nbformat_minor": 5
}
